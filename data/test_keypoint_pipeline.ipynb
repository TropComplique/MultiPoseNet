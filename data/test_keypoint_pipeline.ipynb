{
 "cells": [
  {
   "cell_type": "code",
   "execution_count": null,
   "metadata": {},
   "outputs": [],
   "source": [
    "%load_ext autoreload\n",
    "%autoreload 2"
   ]
  },
  {
   "cell_type": "code",
   "execution_count": null,
   "metadata": {},
   "outputs": [],
   "source": [
    "import tensorflow as tf\n",
    "import numpy as np\n",
    "from PIL import Image, ImageDraw\n",
    "import cv2\n",
    "import math\n",
    "import time\n",
    "\n",
    "import matplotlib.pyplot as plt\n",
    "from matplotlib.colors import ListedColormap\n",
    "\n",
    "import sys\n",
    "sys.path.append('..')\n",
    "from detector.input_pipeline import KeypointPipeline"
   ]
  },
  {
   "cell_type": "code",
   "execution_count": null,
   "metadata": {},
   "outputs": [],
   "source": [
    "cmap = plt.cm.get_cmap('autumn')\n",
    "new_cmap = cmap(np.arange(cmap.N))\n",
    "new_cmap[:, -1] = np.sqrt(np.linspace(0, 1, cmap.N))  # set alpha\n",
    "cmap = ListedColormap(new_cmap)  # create new colormap"
   ]
  },
  {
   "cell_type": "markdown",
   "metadata": {},
   "source": [
    "# Build a graph"
   ]
  },
  {
   "cell_type": "code",
   "execution_count": null,
   "metadata": {
    "scrolled": false
   },
   "outputs": [],
   "source": [
    "tf.reset_default_graph()\n",
    "\n",
    "files = [\n",
    "    '/home/dan/datasets/COCO/multiposenet/train/shard-0001.tfrecords',\n",
    "    '/home/dan/datasets/COCO/multiposenet/train/shard-0002.tfrecords',\n",
    "    '/home/dan/datasets/COCO/multiposenet/train/shard-0003.tfrecords',\n",
    "]\n",
    "params = {\n",
    "    'batch_size': 16, 'image_height': 512, 'image_width': 512, 'min_dimension': 512\n",
    "}\n",
    "\n",
    "with tf.device('/cpu:0'):\n",
    "    pipeline = KeypointPipeline(files, is_training=True, params=params)\n",
    "    dataset = pipeline.dataset\n",
    "    iterator = tf.data.Iterator.from_structure(dataset.output_types, dataset.output_shapes)\n",
    "    init = iterator.make_initializer(dataset)\n",
    "    features, labels = iterator.get_next()\n",
    "    features.update(labels)"
   ]
  },
  {
   "cell_type": "markdown",
   "metadata": {},
   "source": [
    "# Show an image"
   ]
  },
  {
   "cell_type": "code",
   "execution_count": null,
   "metadata": {},
   "outputs": [],
   "source": [
    "ORDER = {\n",
    "    0: 'nose',\n",
    "    1: 'left eye', 2: 'right eye',\n",
    "    3: 'left ear', 4: 'right ear',\n",
    "    5: 'left shoulder', 6: 'right shoulder',\n",
    "    7: 'left elbow', 8: 'right elbow',\n",
    "    9: 'left wrist', 10: 'right wrist',\n",
    "    11: 'left hip', 12: 'right hip',\n",
    "    13: 'left knee', 14: 'right knee',\n",
    "    15: 'left ankle', 16: 'right ankle'\n",
    "}\n",
    "\n",
    "\n",
    "def plot_maps(image, heatmaps, segmentation_mask, loss_mask):\n",
    "    \"\"\"\n",
    "    Arguments:\n",
    "        image: a float numpy array with shape [h, w, 3].\n",
    "        heatmaps: a float numpy array with shape [h / 4, w / 4, 17].\n",
    "        segmentation_mask: a float numpy array with shape [h / 4, w / 4].\n",
    "        loss_mask: a float numpy array with shape [h / 4, w / 4].\n",
    "    \"\"\"\n",
    "\n",
    "    h, w, _ = image.shape\n",
    "    h, w = (h // 2), (w // 2)\n",
    "    background = Image.new('RGBA', (w, h * 19), (255, 255, 255, 255))\n",
    "    draw = ImageDraw.Draw(background, 'RGBA')\n",
    "    \n",
    "    image = (255*image).astype('uint8')\n",
    "    image = Image.fromarray(image)\n",
    "    image = image.resize((w, h), Image.LANCZOS)\n",
    "    image.putalpha(255)\n",
    "\n",
    "    heatmaps = (255*cmap(heatmaps)).astype('uint8')\n",
    "    # it has shape [h, w, 17, 4]\n",
    "    \n",
    "    heats = []\n",
    "    for j, name in ORDER.items():\n",
    "\n",
    "        heat = Image.fromarray(heatmaps[:, :, j])\n",
    "        heat = heat.resize((w, h), Image.LANCZOS)\n",
    "        heat = Image.alpha_composite(image, heat)\n",
    "        background.paste(heat, (0, j*h))\n",
    "        draw.text((0, j*h), name, fill='red')\n",
    "        \n",
    "    def draw_mask(mask):\n",
    "        mask = np.clip(mask, 0.0, 1.0)\n",
    "        mask = (255*mask).astype('uint8')\n",
    "        mask = Image.fromarray(mask)\n",
    "        mask = mask.resize((w, h), Image.LANCZOS).convert('RGB')\n",
    "        mask.putalpha(mask.convert('L'))\n",
    "        mask = Image.alpha_composite(image, mask)\n",
    "        return mask\n",
    "    \n",
    "    mask = draw_mask(segmentation_mask)\n",
    "    background.paste(mask, (0, 17*h))\n",
    "    draw.text((0, 17*h), 'segmentation mask', fill='red')\n",
    "    \n",
    "    mask = draw_mask(loss_mask)\n",
    "    background.paste(mask, (0, 18*h))\n",
    "    draw.text((0, 18*h), 'loss mask', fill='red')\n",
    "\n",
    "    return background"
   ]
  },
  {
   "cell_type": "code",
   "execution_count": null,
   "metadata": {
    "scrolled": false
   },
   "outputs": [],
   "source": [
    "with tf.Session() as sess:\n",
    "    sess.run(init)\n",
    "    output = sess.run(features)"
   ]
  },
  {
   "cell_type": "code",
   "execution_count": null,
   "metadata": {
    "scrolled": false
   },
   "outputs": [],
   "source": [
    "i = 0\n",
    "image = output['images'][i]\n",
    "heatmaps = output['heatmaps'][i]\n",
    "segmentation_mask = output['segmentation_masks'][i]\n",
    "loss_mask = output['loss_masks'][i]\n",
    "\n",
    "plot_maps(image, heatmaps, segmentation_mask, loss_mask)"
   ]
  },
  {
   "cell_type": "markdown",
   "metadata": {},
   "source": [
    "# Measure speed"
   ]
  },
  {
   "cell_type": "code",
   "execution_count": null,
   "metadata": {},
   "outputs": [],
   "source": [
    "times = []\n",
    "with tf.Session() as sess:\n",
    "    sess.run(init)\n",
    "    for _ in range(105):\n",
    "        start = time.perf_counter()\n",
    "        output = sess.run(features)\n",
    "        times.append(time.perf_counter() - start)\n",
    "\n",
    "times = np.array(times[5:])\n",
    "print(times.mean(), times.std())"
   ]
  }
 ],
 "metadata": {
  "kernelspec": {
   "display_name": "Python 3",
   "language": "python",
   "name": "python3"
  },
  "language_info": {
   "codemirror_mode": {
    "name": "ipython",
    "version": 3
   },
   "file_extension": ".py",
   "mimetype": "text/x-python",
   "name": "python",
   "nbconvert_exporter": "python",
   "pygments_lexer": "ipython3",
   "version": "3.6.8"
  }
 },
 "nbformat": 4,
 "nbformat_minor": 2
}
