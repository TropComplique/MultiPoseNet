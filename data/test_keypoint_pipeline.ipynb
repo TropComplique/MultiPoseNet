{
 "cells": [
  {
   "cell_type": "code",
   "execution_count": null,
   "metadata": {},
   "outputs": [],
   "source": [
    "%load_ext autoreload\n",
    "%autoreload 2"
   ]
  },
  {
   "cell_type": "code",
   "execution_count": null,
   "metadata": {},
   "outputs": [],
   "source": [
    "import tensorflow as tf\n",
    "import numpy as np\n",
    "from PIL import Image, ImageDraw\n",
    "import cv2\n",
    "import math\n",
    "import time\n",
    "\n",
    "import matplotlib.pyplot as plt\n",
    "from matplotlib.colors import ListedColormap\n",
    "%matplotlib inline\n",
    "\n",
    "import sys\n",
    "sys.path.append('..')\n",
    "from detector.input_pipeline import KeypointPipeline"
   ]
  },
  {
   "cell_type": "markdown",
   "metadata": {},
   "source": [
    "# Build a graph"
   ]
  },
  {
   "cell_type": "code",
   "execution_count": null,
   "metadata": {
    "scrolled": false
   },
   "outputs": [],
   "source": [
    "tf.reset_default_graph()\n",
    "\n",
    "files = [\n",
    "    '/home/dan/datasets/COCO/multiposenet/train/shard-0000.tfrecords',\n",
    "    '/home/dan/datasets/COCO/multiposenet/train/shard-0001.tfrecords',\n",
    "]\n",
    "with tf.device('/cpu:0'):\n",
    "    pipeline = KeypointPipeline(files, is_training=True, batch_size=16, image_size=480)\n",
    "    # pipeline = KeypointPipeline(files, is_training=False, batch_size=1, image_size=None)\n",
    "    dataset = pipeline.dataset\n",
    "    iterator = tf.data.Iterator.from_structure(dataset.output_types, dataset.output_shapes)\n",
    "    init = iterator.make_initializer(dataset)\n",
    "    features, labels = iterator.get_next()\n",
    "    features.update(labels)"
   ]
  },
  {
   "cell_type": "markdown",
   "metadata": {},
   "source": [
    "# Show an image"
   ]
  },
  {
   "cell_type": "code",
   "execution_count": null,
   "metadata": {},
   "outputs": [],
   "source": [
    "def plot_maps(image, heatmaps):\n",
    "\n",
    "    h, w, _ = image.shape\n",
    "    _, axes = plt.subplots(nrows=2, ncols=3, figsize=(int(w*3/100), int(h*2/100)))\n",
    "\n",
    "    cmap = plt.cm.get_cmap('autumn')\n",
    "    new_cmap = cmap(np.arange(cmap.N))\n",
    "    new_cmap[:, -1] = np.sqrt(np.linspace(0, 1, cmap.N))  # set alpha\n",
    "    cmap = ListedColormap(new_cmap)  # create new colormap\n",
    "\n",
    "    for ax in axes.reshape(-1):\n",
    "        ax.imshow(image)\n",
    "        ax.axis('off')\n",
    "\n",
    "    # ROW 1\n",
    "\n",
    "    axes[0, 0].imshow(heatmaps[:, :, 0], cmap=cmap)\n",
    "    axes[0, 0].set_title('noses')\n",
    "\n",
    "    axes[0, 1].imshow(heatmaps[:, :, 11], cmap=cmap)\n",
    "    axes[0, 1].set_title('left hips')\n",
    "\n",
    "    axes[0, 2].imshow(heatmaps[:, :, 3], cmap=cmap)\n",
    "    axes[0, 2].set_title('right elbows')\n",
    "    \n",
    "    # ROW 2\n",
    "\n",
    "    axes[1, 0].imshow(heatmaps[:, :, 0], cmap=cmap)\n",
    "    axes[1, 0].set_title('noses')\n",
    "\n",
    "    axes[1, 1].imshow(heatmaps[:, :, 11], cmap=cmap)\n",
    "    axes[1, 1].set_title('left hips')\n",
    "\n",
    "    axes[1, 2].imshow(heatmaps[:, :, 3], cmap=cmap)\n",
    "    axes[1, 2].set_title('right elbows')"
   ]
  },
  {
   "cell_type": "code",
   "execution_count": null,
   "metadata": {
    "scrolled": false
   },
   "outputs": [],
   "source": [
    "with tf.Session() as sess:\n",
    "    sess.run(init)\n",
    "    output = sess.run(features)"
   ]
  },
  {
   "cell_type": "code",
   "execution_count": null,
   "metadata": {
    "scrolled": false
   },
   "outputs": [],
   "source": [
    "i = 0\n",
    "image = (255.0*output['images'][i]).astype('uint8')\n",
    "heatmaps = output['heatmaps'][i]\n",
    "masks = output['masks'][i]\n",
    "\n",
    "h, w, _ = image.shape\n",
    "heatmaps = cv2.resize(heatmaps, (w, h))\n",
    "plot_maps(image, heatmaps)"
   ]
  },
  {
   "cell_type": "markdown",
   "metadata": {},
   "source": [
    "# Measure speed"
   ]
  },
  {
   "cell_type": "code",
   "execution_count": null,
   "metadata": {},
   "outputs": [],
   "source": [
    "times = []\n",
    "with tf.Session() as sess:\n",
    "    sess.run(init)\n",
    "    for _ in range(105):\n",
    "        start = time.perf_counter()\n",
    "        output = sess.run(features)\n",
    "        times.append(time.perf_counter() - start)\n",
    "\n",
    "times = np.array(times[5:])\n",
    "print(times.mean(), times.std())"
   ]
  }
 ],
 "metadata": {
  "kernelspec": {
   "display_name": "Python 3",
   "language": "python",
   "name": "python3"
  },
  "language_info": {
   "codemirror_mode": {
    "name": "ipython",
    "version": 3
   },
   "file_extension": ".py",
   "mimetype": "text/x-python",
   "name": "python",
   "nbconvert_exporter": "python",
   "pygments_lexer": "ipython3",
   "version": "3.6.6"
  }
 },
 "nbformat": 4,
 "nbformat_minor": 2
}
