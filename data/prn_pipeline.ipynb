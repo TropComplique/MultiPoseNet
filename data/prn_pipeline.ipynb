{
 "cells": [
  {
   "cell_type": "code",
   "execution_count": null,
   "metadata": {},
   "outputs": [],
   "source": [
    "%load_ext autoreload\n",
    "%autoreload 2"
   ]
  },
  {
   "cell_type": "code",
   "execution_count": null,
   "metadata": {},
   "outputs": [],
   "source": [
    "import tensorflow as tf\n",
    "import numpy as np\n",
    "from PIL import Image, ImageDraw\n",
    "import matplotlib.pyplot as plt\n",
    "from matplotlib.colors import ListedColormap\n",
    "\n",
    "import sys\n",
    "sys.path.append('..')\n",
    "from detector.input_pipeline import PoseResidualNetworkPipeline"
   ]
  },
  {
   "cell_type": "code",
   "execution_count": null,
   "metadata": {},
   "outputs": [],
   "source": [
    "cmap = plt.cm.get_cmap('autumn')\n",
    "new_cmap = cmap(np.arange(cmap.N))\n",
    "new_cmap[:, -1] = np.sqrt(np.linspace(0, 1, cmap.N))  # set alpha\n",
    "cmap = ListedColormap(new_cmap)  # create new colormap"
   ]
  },
  {
   "cell_type": "markdown",
   "metadata": {},
   "source": [
    "# Build a graph"
   ]
  },
  {
   "cell_type": "code",
   "execution_count": null,
   "metadata": {
    "scrolled": false
   },
   "outputs": [],
   "source": [
    "tf.reset_default_graph()\n",
    "\n",
    "files = [\n",
    "    '/home/dan/datasets/COCO/multiposenet/train/shard-0001.tfrecords',\n",
    "    '/home/dan/datasets/COCO/multiposenet/train/shard-0002.tfrecords',\n",
    "    '/home/dan/datasets/COCO/multiposenet/train/shard-0003.tfrecords',\n",
    "]\n",
    "\n",
    "with tf.device('/cpu:0'):\n",
    "    pipeline = PoseResidualNetworkPipeline(files, is_training=True, batch_size=10)\n",
    "    dataset = pipeline.dataset\n",
    "    iterator = tf.data.Iterator.from_structure(dataset.output_types, dataset.output_shapes)\n",
    "    init = iterator.make_initializer(dataset)\n",
    "    features, labels = iterator.get_next()"
   ]
  },
  {
   "cell_type": "markdown",
   "metadata": {},
   "source": [
    "# Show an image"
   ]
  },
  {
   "cell_type": "code",
   "execution_count": null,
   "metadata": {
    "scrolled": false
   },
   "outputs": [],
   "source": [
    "with tf.Session() as sess:\n",
    "    sess.run(init)\n",
    "    output = sess.run([features, labels])\n",
    "\n",
    "    heatmaps = output[0]\n",
    "    binary_masks = output[1]"
   ]
  },
  {
   "cell_type": "code",
   "execution_count": null,
   "metadata": {
    "scrolled": false
   },
   "outputs": [],
   "source": [
    "i = 0\n",
    "\n",
    "w, h = 36, 56\n",
    "background = Image.new('RGBA', (w * 2, h * 17), (255, 255, 255, 255))\n",
    "draw = ImageDraw.Draw(background, 'RGBA')\n",
    "heatmaps = (cmap(heatmaps[i]) * 255).astype('uint8')\n",
    "binary_masks = (binary_masks[i] * 255).astype('uint8')\n",
    "\n",
    "for j in range(17):\n",
    "\n",
    "    heat = Image.fromarray(heatmaps[:, :, j])\n",
    "    mask = Image.fromarray(binary_masks[:, :, j])\n",
    "\n",
    "    background.paste(heat, (0, j*h))\n",
    "    background.paste(mask, (w, j*h))\n",
    "\n",
    "w, h = background.size\n",
    "background.resize((w * 5, h * 5))"
   ]
  },
  {
   "cell_type": "code",
   "execution_count": null,
   "metadata": {},
   "outputs": [],
   "source": []
  }
 ],
 "metadata": {
  "kernelspec": {
   "display_name": "Python 3",
   "language": "python",
   "name": "python3"
  },
  "language_info": {
   "codemirror_mode": {
    "name": "ipython",
    "version": 3
   },
   "file_extension": ".py",
   "mimetype": "text/x-python",
   "name": "python",
   "nbconvert_exporter": "python",
   "pygments_lexer": "ipython3",
   "version": "3.6.7"
  }
 },
 "nbformat": 4,
 "nbformat_minor": 2
}
