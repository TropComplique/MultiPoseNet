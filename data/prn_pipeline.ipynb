{
 "cells": [
  {
   "cell_type": "code",
   "execution_count": null,
   "metadata": {},
   "outputs": [],
   "source": [
    "%load_ext autoreload\n",
    "%autoreload 2"
   ]
  },
  {
   "cell_type": "code",
   "execution_count": null,
   "metadata": {},
   "outputs": [],
   "source": [
    "import numpy as np\n",
    "import tensorflow.compat.v1 as tf\n",
    "from PIL import Image, ImageDraw\n",
    "import matplotlib.pyplot as plt\n",
    "from matplotlib.colors import ListedColormap\n",
    "\n",
    "import sys\n",
    "sys.path.append('..')\n",
    "from detector.input_pipeline import PoseResidualNetworkPipeline"
   ]
  },
  {
   "cell_type": "code",
   "execution_count": null,
   "metadata": {},
   "outputs": [],
   "source": [
    "cmap = plt.cm.get_cmap('autumn')\n",
    "new_cmap = cmap(np.arange(cmap.N))\n",
    "new_cmap[:, -1] = np.sqrt(np.linspace(0, 1, cmap.N))  # set alpha\n",
    "cmap = ListedColormap(new_cmap)  # create new colormap"
   ]
  },
  {
   "cell_type": "markdown",
   "metadata": {},
   "source": [
    "# Build a graph"
   ]
  },
  {
   "cell_type": "code",
   "execution_count": null,
   "metadata": {
    "scrolled": false
   },
   "outputs": [],
   "source": [
    "tf.reset_default_graph()\n",
    "\n",
    "files = [\n",
    "    '/home/dan/datasets/COCO/multiposenet/train/shard-0001.tfrecords',\n",
    "    '/home/dan/datasets/COCO/multiposenet/train/shard-0002.tfrecords',\n",
    "    '/home/dan/datasets/COCO/multiposenet/train/shard-0003.tfrecords',\n",
    "]\n",
    "\n",
    "with tf.device('/cpu:0'):\n",
    "    pipeline = PoseResidualNetworkPipeline(files, is_training=True, batch_size=10, max_keypoints=None)\n",
    "    dataset = pipeline.dataset\n",
    "    iterator = tf.data.Iterator.from_structure(dataset.output_types, dataset.output_shapes)\n",
    "    init = iterator.make_initializer(dataset)\n",
    "    features, labels = iterator.get_next()\n",
    "\n",
    "print(features, labels)"
   ]
  },
  {
   "cell_type": "markdown",
   "metadata": {},
   "source": [
    "# Show an image"
   ]
  },
  {
   "cell_type": "code",
   "execution_count": null,
   "metadata": {},
   "outputs": [],
   "source": [
    "ORDER = {\n",
    "    0: 'nose',\n",
    "    1: 'left eye', 2: 'right eye',\n",
    "    3: 'left ear', 4: 'right ear',\n",
    "    5: 'left shoulder', 6: 'right shoulder',\n",
    "    7: 'left elbow', 8: 'right elbow',\n",
    "    9: 'left wrist', 10: 'right wrist',\n",
    "    11: 'left hip', 12: 'right hip',\n",
    "    13: 'left knee', 14: 'right knee',\n",
    "    15: 'left ankle', 16: 'right ankle'\n",
    "}\n",
    "\n",
    "\n",
    "EDGES = [\n",
    "    (0, 1), (0, 2),\n",
    "    (1, 3), (2, 4),\n",
    "    (5, 7), (7, 9), (6, 8), (8, 10),\n",
    "    (11, 13), (13, 15), (12, 14), (14, 16),\n",
    "    (3, 5), (4, 6),\n",
    "    (5, 11), (6, 12)\n",
    "]\n",
    "\n",
    "\n",
    "def get_keypoints(heatmaps, box, threshold):\n",
    "    \"\"\"\n",
    "    Arguments:\n",
    "        heatmaps: a numpy float array with shape [h, w, 17].\n",
    "        box: a numpy array with shape [4].\n",
    "        threshold: a float number.\n",
    "    Returns:\n",
    "        a numpy int array with shape [17, 3].\n",
    "    \"\"\"\n",
    "    keypoints = np.zeros([17, 3], dtype='int32')\n",
    "\n",
    "    ymin, xmin, ymax, xmax = box\n",
    "    height, width = ymax - ymin, xmax - xmin\n",
    "    h, w, _ = heatmaps.shape\n",
    "\n",
    "    for j in range(17):\n",
    "        mask = heatmaps[:, :, j]\n",
    "        if mask.max() > threshold:\n",
    "            y, x = np.unravel_index(mask.argmax(), mask.shape)\n",
    "            y = np.clip(int(y * height/h), 0, height)\n",
    "            x = np.clip(int(x * width/w), 0, width)\n",
    "            keypoints[j] = np.array([x, y, 1])\n",
    "\n",
    "    return keypoints\n",
    "\n",
    "\n",
    "def draw_pose(draw, keypoints, box):\n",
    "    \"\"\"\n",
    "    Arguments:\n",
    "        draw: an instance of ImageDraw.Draw.\n",
    "        keypoints: a numpy int array with shape [17, 3].\n",
    "        box: a numpy int array with shape [4].\n",
    "    \"\"\"\n",
    "    ymin, xmin, ymax, xmax = box\n",
    "    keypoints = keypoints.copy()\n",
    "    keypoints += np.array([xmin, ymin, 0])\n",
    "\n",
    "    for (p, q) in EDGES:\n",
    "\n",
    "        x1, y1, v1 = keypoints[p]\n",
    "        x2, y2, v2 = keypoints[q]\n",
    "\n",
    "        both_visible = v1 > 0 and v2 > 0\n",
    "        if both_visible:\n",
    "            draw.line([(x1, y1), (x2, y2)], fill='red')\n",
    "\n",
    "    for j in range(17):\n",
    "        x, y, v = keypoints[j]\n",
    "        if v > 0:\n",
    "            s = 1\n",
    "            draw.ellipse([\n",
    "                (x - s, y - s),\n",
    "                (x + s, y + s)\n",
    "            ], fill='red')"
   ]
  },
  {
   "cell_type": "code",
   "execution_count": null,
   "metadata": {
    "scrolled": false
   },
   "outputs": [],
   "source": [
    "with tf.Session() as sess:\n",
    "    sess.run(init)\n",
    "    output = sess.run([features, labels])"
   ]
  },
  {
   "cell_type": "code",
   "execution_count": null,
   "metadata": {
    "scrolled": false
   },
   "outputs": [],
   "source": [
    "i = 0\n",
    "w, h = 36, 56\n",
    "w, h = w * 5, h * 5\n",
    "\n",
    "background = Image.new('RGBA', (w * 2, h * 17), (255, 255, 255, 255))\n",
    "draw = ImageDraw.Draw(background, 'RGBA')\n",
    "\n",
    "keypoints = get_keypoints(output[1][i], box=(0, 0, h, w), threshold=0.9)\n",
    "heatmaps = (cmap(output[0][i]) * 255).astype('uint8')\n",
    "binary_masks = (output[1][i] * 255).astype('uint8')\n",
    "\n",
    "for j, name in ORDER.items():\n",
    "\n",
    "    heat = Image.fromarray(heatmaps[:, :, j]).resize((w, h))\n",
    "    mask = Image.fromarray(binary_masks[:, :, j]).resize((w, h))\n",
    "\n",
    "    background.paste(heat, (0, j*h))\n",
    "    background.paste(mask, (w, j*h))\n",
    "    draw.text((0, j*h), name, fill='red')\n",
    "    draw_pose(draw, keypoints, box=(j*h, w, j*h + h, 2 * w))\n",
    "    \n",
    "background"
   ]
  }
 ],
 "metadata": {
  "kernelspec": {
   "display_name": "Python 3",
   "language": "python",
   "name": "python3"
  },
  "language_info": {
   "codemirror_mode": {
    "name": "ipython",
    "version": 3
   },
   "file_extension": ".py",
   "mimetype": "text/x-python",
   "name": "python",
   "nbconvert_exporter": "python",
   "pygments_lexer": "ipython3",
   "version": "3.6.9"
  }
 },
 "nbformat": 4,
 "nbformat_minor": 2
}
