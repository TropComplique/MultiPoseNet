{
 "cells": [
  {
   "cell_type": "code",
   "execution_count": null,
   "metadata": {},
   "outputs": [],
   "source": [
    "%load_ext autoreload\n",
    "%autoreload 2"
   ]
  },
  {
   "cell_type": "code",
   "execution_count": null,
   "metadata": {},
   "outputs": [],
   "source": [
    "import tensorflow as tf\n",
    "import numpy as np\n",
    "from PIL import Image, ImageDraw\n",
    "import cv2\n",
    "import os\n",
    "from tqdm import tqdm\n",
    "import math\n",
    "import time\n",
    "import matplotlib.pyplot as plt\n",
    "%matplotlib inline\n",
    "\n",
    "import sys\n",
    "sys.path.append('..')\n",
    "from detector.input_pipeline import DetectorPipeline"
   ]
  },
  {
   "cell_type": "markdown",
   "metadata": {},
   "source": [
    "# Build a graph"
   ]
  },
  {
   "cell_type": "code",
   "execution_count": null,
   "metadata": {
    "scrolled": false
   },
   "outputs": [],
   "source": [
    "tf.reset_default_graph()\n",
    "\n",
    "dataset_path = '/home/dan/datasets/COCO/multiposenet/train/'\n",
    "filenames = os.listdir(dataset_path)\n",
    "filenames = [n for n in filenames if n.endswith('.tfrecords')]\n",
    "filenames = [os.path.join(dataset_path, n) for n in sorted(filenames)]\n",
    "\n",
    "params = {\n",
    "    'batch_size': 16, 'image_height': 640, 'image_width': 640, 'min_dimension': 640\n",
    "}\n",
    "with tf.device('/cpu:0'):\n",
    "    pipeline = DetectorPipeline(filenames, is_training=True, params=params)\n",
    "    dataset = pipeline.dataset\n",
    "    iterator = tf.data.Iterator.from_structure(dataset.output_types, dataset.output_shapes)\n",
    "    init = iterator.make_initializer(dataset)\n",
    "    features, labels = iterator.get_next()\n",
    "    features.update(labels)"
   ]
  },
  {
   "cell_type": "markdown",
   "metadata": {},
   "source": [
    "# Show an image"
   ]
  },
  {
   "cell_type": "code",
   "execution_count": null,
   "metadata": {},
   "outputs": [],
   "source": [
    "def draw_boxes(image, boxes):\n",
    "    \n",
    "    image = Image.fromarray(image).copy()\n",
    "    draw = ImageDraw.Draw(image, 'RGBA')\n",
    "\n",
    "    for box in boxes:\n",
    "        ymin, xmin, ymax, xmax = box\n",
    "        fill = (255, 0, 0, 45)\n",
    "        outline = 'red'\n",
    "        draw.rectangle(\n",
    "            [(xmin, ymin), (xmax, ymax)],\n",
    "            fill=fill, outline=outline\n",
    "        )\n",
    "\n",
    "    return image"
   ]
  },
  {
   "cell_type": "code",
   "execution_count": null,
   "metadata": {
    "scrolled": false
   },
   "outputs": [],
   "source": [
    "with tf.Session() as sess:\n",
    "    sess.run(init)\n",
    "    output = sess.run(features)"
   ]
  },
  {
   "cell_type": "code",
   "execution_count": null,
   "metadata": {
    "scrolled": false
   },
   "outputs": [],
   "source": [
    "i = 0\n",
    "image = (255.0*output['images'][i]).astype('uint8')\n",
    "boxes = output['boxes'][i].copy()\n",
    "\n",
    "num_boxes = output['num_boxes'][i]\n",
    "boxes = boxes[:num_boxes]\n",
    "\n",
    "h, w, _ = image.shape\n",
    "scaler = np.array([h, w, h, w], dtype='float32')\n",
    "boxes *= scaler\n",
    "\n",
    "draw_boxes(image, boxes)"
   ]
  },
  {
   "cell_type": "markdown",
   "metadata": {},
   "source": [
    "# Measure speed"
   ]
  },
  {
   "cell_type": "code",
   "execution_count": null,
   "metadata": {},
   "outputs": [],
   "source": [
    "times = []\n",
    "with tf.Session() as sess:\n",
    "    sess.run(init)\n",
    "    for _ in range(105):\n",
    "        start = time.perf_counter()\n",
    "        output = sess.run(features)\n",
    "        times.append(time.perf_counter() - start)\n",
    "\n",
    "times = np.array(times[5:])\n",
    "print(times.mean(), times.std())"
   ]
  },
  {
   "cell_type": "markdown",
   "metadata": {},
   "source": [
    "# Measure box scale distribution"
   ]
  },
  {
   "cell_type": "code",
   "execution_count": null,
   "metadata": {
    "scrolled": true
   },
   "outputs": [],
   "source": [
    "# when running this don't forget to set `image_size` very small (like 128)\n",
    "\n",
    "datasets_size = pipeline.num_examples\n",
    "num_batches_per_epoch = datasets_size // 16\n",
    "num_epochs = 10\n",
    "num_steps = num_epochs * num_batches_per_epoch\n",
    "\n",
    "result = []\n",
    "with tf.Session() as sess:\n",
    "    sess.run(init)        \n",
    "    for _ in tqdm(range(num_steps)):\n",
    "        output = sess.run(features)\n",
    "        boxes = output['boxes']\n",
    "        num_boxes = output['num_boxes']\n",
    "        result.append((boxes, num_boxes))"
   ]
  },
  {
   "cell_type": "code",
   "execution_count": null,
   "metadata": {},
   "outputs": [],
   "source": [
    "scales = []\n",
    "for b, n in result:\n",
    "    ymin, xmin, ymax, xmax = np.split(b, 4, axis=2)\n",
    "    h, w = ymax - ymin, xmax - xmin\n",
    "    s = np.sqrt(h * w)\n",
    "    s = np.squeeze(s, axis=2)\n",
    "    for i in range(len(n)):\n",
    "        scales.append(s[i][:n[i]])\n",
    "        \n",
    "scales = np.concatenate(scales)"
   ]
  },
  {
   "cell_type": "code",
   "execution_count": null,
   "metadata": {},
   "outputs": [],
   "source": [
    "plt.hist(scales, bins=100);"
   ]
  }
 ],
 "metadata": {
  "kernelspec": {
   "display_name": "Python 3",
   "language": "python",
   "name": "python3"
  },
  "language_info": {
   "codemirror_mode": {
    "name": "ipython",
    "version": 3
   },
   "file_extension": ".py",
   "mimetype": "text/x-python",
   "name": "python",
   "nbconvert_exporter": "python",
   "pygments_lexer": "ipython3",
   "version": "3.6.6"
  }
 },
 "nbformat": 4,
 "nbformat_minor": 2
}
