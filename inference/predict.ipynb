{
 "cells": [
  {
   "cell_type": "code",
   "execution_count": null,
   "metadata": {},
   "outputs": [],
   "source": [
    "import numpy as np\n",
    "from PIL import Image, ImageDraw\n",
    "import os\n",
    "import cv2\n",
    "import random\n",
    "import time\n",
    "import tensorflow as tf\n",
    "\n",
    "from detector import Detector"
   ]
  },
  {
   "cell_type": "code",
   "execution_count": null,
   "metadata": {},
   "outputs": [],
   "source": [
    "MODEL_PATH = 'model.pb'\n",
    "IMAGES_FOLDER = '/home/dan/datasets/COCO/images/val2017/'"
   ]
  },
  {
   "cell_type": "markdown",
   "metadata": {},
   "source": [
    "# Load the model"
   ]
  },
  {
   "cell_type": "code",
   "execution_count": null,
   "metadata": {},
   "outputs": [],
   "source": [
    "detector = Detector(MODEL_PATH)"
   ]
  },
  {
   "cell_type": "markdown",
   "metadata": {},
   "source": [
    "# Get an image"
   ]
  },
  {
   "cell_type": "code",
   "execution_count": null,
   "metadata": {},
   "outputs": [],
   "source": [
    "names = os.listdir(IMAGES_FOLDER)"
   ]
  },
  {
   "cell_type": "code",
   "execution_count": null,
   "metadata": {},
   "outputs": [],
   "source": [
    "n = random.choice(names)\n",
    "path = os.path.join(IMAGES_FOLDER, n)\n",
    "\n",
    "image = Image.open(path)\n",
    "image = image.resize((640, 640))\n",
    "image"
   ]
  },
  {
   "cell_type": "markdown",
   "metadata": {},
   "source": [
    "# Predict"
   ]
  },
  {
   "cell_type": "code",
   "execution_count": null,
   "metadata": {},
   "outputs": [],
   "source": [
    "outputs = detector(np.array(image), score_threshold=0.0001)"
   ]
  },
  {
   "cell_type": "markdown",
   "metadata": {},
   "source": [
    "# Show detections"
   ]
  },
  {
   "cell_type": "code",
   "execution_count": null,
   "metadata": {},
   "outputs": [],
   "source": [
    "EDGES = [\n",
    "    (0, 1), (0, 2),\n",
    "    (1, 3), (2, 4),\n",
    "    (5, 7), (7, 9), (6, 8), (8, 10),\n",
    "    (11, 13), (13, 15), (12, 14), (14, 16),\n",
    "    (3, 5), (4, 6),\n",
    "    (5, 11), (6, 12)\n",
    "]\n"
   ]
  },
  {
   "cell_type": "code",
   "execution_count": null,
   "metadata": {},
   "outputs": [],
   "source": [
    "outputs['keypoint_positions'][1]"
   ]
  },
  {
   "cell_type": "code",
   "execution_count": null,
   "metadata": {},
   "outputs": [],
   "source": [
    "def draw_everything(image, outputs):\n",
    "\n",
    "    image_copy = image.copy()\n",
    "    image_copy.putalpha(255)\n",
    "    draw = ImageDraw.Draw(image_copy, 'RGBA')\n",
    "    width, height = image_copy.size\n",
    "    scaler = np.array([height, width, height, width])\n",
    "    \n",
    "    n = outputs['num_boxes']\n",
    "    boxes = scaler * outputs['boxes']\n",
    "    for i, box in enumerate(boxes):\n",
    "        ymin, xmin, ymax, xmax = box\n",
    "        draw.rectangle([(xmin, ymin), (xmax, ymax)], outline='red')\n",
    "       \n",
    "        keypoints = outputs['keypoint_positions'][i]\n",
    "        keypoints = keypoints[:, [1, 0]]\n",
    "        keypoints *= np.array([xmax - xmin, ymax - ymin])\n",
    "        keypoints += np.array([xmin, ymin])\n",
    "        keypoints = np.concatenate([keypoints, np.ones([17, 1])], axis=1)\n",
    "\n",
    "        for (p, q) in EDGES:\n",
    "\n",
    "            x1, y1, v1 = keypoints[p]\n",
    "            x2, y2, v2 = keypoints[q]\n",
    "\n",
    "            both_visible = v1 > 0 and v2 > 0\n",
    "            if both_visible:\n",
    "                draw.line([(x1, y1), (x2, y2)])\n",
    "\n",
    "        for j in range(17):\n",
    "            x, y, v = keypoints[j]\n",
    "            if v > 0:\n",
    "                s = 8\n",
    "                draw.ellipse([\n",
    "                    (x - s, y - s),\n",
    "                    (x + s, y + s)\n",
    "                ], fill='red')\n",
    "    \n",
    "#     mask = outputs['segmentation_masks']\n",
    "#     m, M = mask.min(), mask.max()\n",
    "#     mask = (mask - m)/(M - m)\n",
    "#     mask = np.expand_dims(mask, 2)\n",
    "#     color = np.array([255, 255, 255])\n",
    "#     mask = Image.fromarray((mask*color).astype('uint8'))\n",
    "#     mask.putalpha(mask.convert('L'))\n",
    "#     mask = mask.resize((width, height))\n",
    "#     image_copy.alpha_composite(mask)\n",
    "    return image_copy"
   ]
  },
  {
   "cell_type": "code",
   "execution_count": null,
   "metadata": {},
   "outputs": [],
   "source": [
    "draw_everything(image, outputs)"
   ]
  },
  {
   "cell_type": "code",
   "execution_count": null,
   "metadata": {},
   "outputs": [],
   "source": [
    "segmentation_masks = results['segmentation_masks'][0]\n",
    "segmentation_masks = results['segmentation_masks'][0]"
   ]
  },
  {
   "cell_type": "code",
   "execution_count": null,
   "metadata": {},
   "outputs": [],
   "source": [
    "m = segmentation_masks.min()\n",
    "M = segmentation_masks.max()\n",
    "segmentation_masks = (segmentation_masks - m)/(M - m)\n",
    "segmentation_masks = Image.fromarray((segmentation_masks*255.0).astype('uint8'))\n",
    "segmentation_masks"
   ]
  },
  {
   "cell_type": "markdown",
   "metadata": {},
   "source": [
    "# Measure speed"
   ]
  },
  {
   "cell_type": "code",
   "execution_count": null,
   "metadata": {},
   "outputs": [],
   "source": [
    "times = []\n",
    "for _ in range(110):\n",
    "    start = time.perf_counter()\n",
    "    boxes, labels, scores = detector(image_array, score_threshold=0.25)\n",
    "    times.append(time.perf_counter() - start)\n",
    "    \n",
    "times = np.array(times)\n",
    "times = times[10:]\n",
    "print(times.mean(), times.std())"
   ]
  }
 ],
 "metadata": {
  "kernelspec": {
   "display_name": "Python 3",
   "language": "python",
   "name": "python3"
  },
  "language_info": {
   "codemirror_mode": {
    "name": "ipython",
    "version": 3
   },
   "file_extension": ".py",
   "mimetype": "text/x-python",
   "name": "python",
   "nbconvert_exporter": "python",
   "pygments_lexer": "ipython3",
   "version": "3.6.8"
  }
 },
 "nbformat": 4,
 "nbformat_minor": 1
}
