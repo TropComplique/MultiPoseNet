{
 "cells": [
  {
   "cell_type": "code",
   "execution_count": null,
   "metadata": {},
   "outputs": [],
   "source": [
    "import numpy as np\n",
    "from PIL import Image, ImageDraw\n",
    "import os\n",
    "import cv2\n",
    "import time\n",
    "import tensorflow as tf\n",
    "\n",
    "from detector import Detector"
   ]
  },
  {
   "cell_type": "code",
   "execution_count": null,
   "metadata": {},
   "outputs": [],
   "source": [
    "MODEL_PATH = 'model.pb'\n",
    "OUTPUT_NAMES = [\n",
    "    'boxes', 'scores', 'num_boxes',\n",
    "    'keypoint_heatmaps', 'segmentation_masks',\n",
    "    'keypoint_scores', 'keypoint_positions'\n",
    "]\n",
    "\n",
    "with tf.gfile.GFile(MODEL_PATH, 'rb') as f:\n",
    "    graph_def = tf.GraphDef()\n",
    "    graph_def.ParseFromString(f.read())\n",
    "\n",
    "graph = tf.Graph()\n",
    "with graph.as_default():\n",
    "    tf.import_graph_def(graph_def, name='import')\n",
    "\n",
    "input_image = graph.get_tensor_by_name('import/images:0')\n",
    "output_ops = {n: graph.get_tensor_by_name(f'import/{n}:0') for n in OUTPUT_NAMES}\n",
    "sess = tf.Session(graph=graph)"
   ]
  },
  {
   "cell_type": "markdown",
   "metadata": {},
   "source": [
    "# Get an image"
   ]
  },
  {
   "cell_type": "code",
   "execution_count": null,
   "metadata": {},
   "outputs": [],
   "source": [
    "path = '/home/dan/datasets/COCO/images/val2017/'\n",
    "i = os.listdir(path)[600]\n",
    "path = path + i\n",
    "image_array = cv2.imread(path)\n",
    "image_array = cv2.cvtColor(image_array, cv2.COLOR_BGR2RGB)\n",
    "image = Image.fromarray(image_array)\n",
    "image = image.resize((640, 640))\n",
    "image"
   ]
  },
  {
   "cell_type": "code",
   "execution_count": null,
   "metadata": {},
   "outputs": [],
   "source": [
    "outputs = sess.run(output_ops, feed_dict={input_image: np.expand_dims(np.array(image), 0)})\n",
    "outputs = {n: v[0] for n, v in outputs.items()}"
   ]
  },
  {
   "cell_type": "markdown",
   "metadata": {},
   "source": [
    "# Show detections"
   ]
  },
  {
   "cell_type": "code",
   "execution_count": null,
   "metadata": {},
   "outputs": [],
   "source": [
    "outputs['keypoint_heatmaps'][:, :, 0].shape"
   ]
  },
  {
   "cell_type": "code",
   "execution_count": null,
   "metadata": {},
   "outputs": [],
   "source": [
    "def draw_everything(image, outputs):\n",
    "\n",
    "    image_copy = image.copy()\n",
    "    image_copy.putalpha(255)\n",
    "    draw = ImageDraw.Draw(image_copy, 'RGBA')\n",
    "    width, height = image_copy.size\n",
    "    scaler = np.array([height, width, height, width])\n",
    "    \n",
    "    n = outputs['num_boxes']\n",
    "    boxes = scaler * outputs['boxes']\n",
    "    for box in boxes:\n",
    "        ymin, xmin, ymax, xmax = box\n",
    "        draw.rectangle([(xmin, ymin), (xmax, ymax)], outline='red')\n",
    "    \n",
    "    mask = outputs['keypoint_heatmaps'][:, :, 0]#outputs['segmentation_masks']\n",
    "    m, M = mask.min(), mask.max()\n",
    "    mask = (mask - m)/(M - m)\n",
    "    mask = np.expand_dims(mask, 2)\n",
    "    color = np.array([255, 255, 255])\n",
    "    mask = Image.fromarray((mask*color).astype('uint8'))\n",
    "    mask.putalpha(mask.convert('L'))\n",
    "    mask = mask.resize((width, height))\n",
    "    image_copy.alpha_composite(mask)\n",
    "    return image_copy"
   ]
  },
  {
   "cell_type": "code",
   "execution_count": null,
   "metadata": {},
   "outputs": [],
   "source": [
    "draw_everything(image, outputs)"
   ]
  },
  {
   "cell_type": "code",
   "execution_count": null,
   "metadata": {},
   "outputs": [],
   "source": [
    "segmentation_masks = results['segmentation_masks'][0]\n",
    "segmentation_masks = results['segmentation_masks'][0]"
   ]
  },
  {
   "cell_type": "code",
   "execution_count": null,
   "metadata": {},
   "outputs": [],
   "source": [
    "m = segmentation_masks.min()\n",
    "M = segmentation_masks.max()\n",
    "segmentation_masks = (segmentation_masks - m)/(M - m)\n",
    "segmentation_masks = Image.fromarray((segmentation_masks*255.0).astype('uint8'))\n",
    "segmentation_masks"
   ]
  },
  {
   "cell_type": "markdown",
   "metadata": {},
   "source": [
    "# Measure speed"
   ]
  },
  {
   "cell_type": "code",
   "execution_count": null,
   "metadata": {},
   "outputs": [],
   "source": [
    "times = []\n",
    "for _ in range(110):\n",
    "    start = time.perf_counter()\n",
    "    boxes, labels, scores = detector(image_array, score_threshold=0.25)\n",
    "    times.append(time.perf_counter() - start)\n",
    "    \n",
    "times = np.array(times)\n",
    "times = times[10:]\n",
    "print(times.mean(), times.std())"
   ]
  }
 ],
 "metadata": {
  "kernelspec": {
   "display_name": "Python 3",
   "language": "python",
   "name": "python3"
  },
  "language_info": {
   "codemirror_mode": {
    "name": "ipython",
    "version": 3
   },
   "file_extension": ".py",
   "mimetype": "text/x-python",
   "name": "python",
   "nbconvert_exporter": "python",
   "pygments_lexer": "ipython3",
   "version": "3.6.7"
  }
 },
 "nbformat": 4,
 "nbformat_minor": 1
}
