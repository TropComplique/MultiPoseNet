{
 "cells": [
  {
   "cell_type": "code",
   "execution_count": null,
   "metadata": {},
   "outputs": [],
   "source": [
    "import numpy as np\n",
    "from PIL import Image, ImageDraw\n",
    "import os\n",
    "import cv2\n",
    "import random\n",
    "import time\n",
    "\n",
    "from detector import Detector"
   ]
  },
  {
   "cell_type": "code",
   "execution_count": null,
   "metadata": {},
   "outputs": [],
   "source": [
    "MODEL_PATH = 'model.pb'\n",
    "IMAGES_FOLDER = '/home/dan/datasets/COCO/images/val2017/'"
   ]
  },
  {
   "cell_type": "markdown",
   "metadata": {},
   "source": [
    "# Load the model"
   ]
  },
  {
   "cell_type": "code",
   "execution_count": null,
   "metadata": {},
   "outputs": [],
   "source": [
    "detector = Detector(MODEL_PATH, visible_device_list='1')"
   ]
  },
  {
   "cell_type": "markdown",
   "metadata": {},
   "source": [
    "# Get an image"
   ]
  },
  {
   "cell_type": "code",
   "execution_count": null,
   "metadata": {},
   "outputs": [],
   "source": [
    "names = os.listdir(IMAGES_FOLDER)"
   ]
  },
  {
   "cell_type": "code",
   "execution_count": null,
   "metadata": {},
   "outputs": [],
   "source": [
    "n = random.choice(names)\n",
    "path = os.path.join(IMAGES_FOLDER, n)\n",
    "\n",
    "image = Image.open(path)\n",
    "image = image.resize((640, 640))\n",
    "image"
   ]
  },
  {
   "cell_type": "markdown",
   "metadata": {},
   "source": [
    "# Predict"
   ]
  },
  {
   "cell_type": "code",
   "execution_count": null,
   "metadata": {},
   "outputs": [],
   "source": [
    "image_array = np.array(image)\n",
    "outputs = detector(image_array, score_threshold=0.0001)"
   ]
  },
  {
   "cell_type": "markdown",
   "metadata": {},
   "source": [
    "# Show detections"
   ]
  },
  {
   "cell_type": "code",
   "execution_count": null,
   "metadata": {},
   "outputs": [],
   "source": [
    "EDGES = [\n",
    "    (0, 1), (0, 2),\n",
    "    (1, 3), (2, 4),\n",
    "    (5, 7), (7, 9), (6, 8), (8, 10),\n",
    "    (11, 13), (13, 15), (12, 14), (14, 16),\n",
    "    (3, 5), (4, 6),\n",
    "    (5, 11), (6, 12)\n",
    "]"
   ]
  },
  {
   "cell_type": "code",
   "execution_count": null,
   "metadata": {},
   "outputs": [],
   "source": [
    "outputs['keypoint_scores']"
   ]
  },
  {
   "cell_type": "code",
   "execution_count": null,
   "metadata": {},
   "outputs": [],
   "source": [
    "def draw_everything(image, outputs):\n",
    "\n",
    "    image_copy = image.copy()\n",
    "    image_copy.putalpha(255)\n",
    "    draw = ImageDraw.Draw(image_copy, 'RGBA')\n",
    "    width, height = image_copy.size\n",
    "    \n",
    "    scaler = np.array([height, width, height, width])\n",
    "    boxes = scaler * outputs['boxes']\n",
    "\n",
    "    for i, box in enumerate(boxes):\n",
    "        \n",
    "        ymin, xmin, ymax, xmax = box\n",
    "        draw.rectangle([(xmin, ymin), (xmax, ymax)], outline='red')\n",
    "       \n",
    "        keypoints = outputs['keypoint_positions'][i]\n",
    "        keypoints = keypoints[:, [1, 0]].copy()\n",
    "        keypoints *= np.array([xmax - xmin, ymax - ymin])\n",
    "        keypoints += np.array([xmin, ymin])\n",
    "        visibility = np.ones([17, 1], dtype=np.float32)\n",
    "        keypoints = np.concatenate([keypoints, visibility], axis=1)\n",
    "\n",
    "        for (p, q) in EDGES:\n",
    "\n",
    "            x1, y1, v1 = keypoints[p]\n",
    "            x2, y2, v2 = keypoints[q]\n",
    "\n",
    "            both_visible = v1 > 0 and v2 > 0\n",
    "            if both_visible:\n",
    "                draw.line([(x1, y1), (x2, y2)])\n",
    "\n",
    "        for j in range(17):\n",
    "            x, y, v = keypoints[j]\n",
    "            if v > 0:\n",
    "                s = 2\n",
    "                draw.ellipse([\n",
    "                    (x - s, y - s),\n",
    "                    (x + s, y + s)\n",
    "                ], fill='red')\n",
    "\n",
    "    return image_copy"
   ]
  },
  {
   "cell_type": "code",
   "execution_count": null,
   "metadata": {},
   "outputs": [],
   "source": [
    "draw_everything(image, outputs)"
   ]
  },
  {
   "cell_type": "code",
   "execution_count": null,
   "metadata": {},
   "outputs": [],
   "source": [
    "segmentation_masks = outputs['segmentation_masks'].copy()\n",
    "m = segmentation_masks.min()\n",
    "M = segmentation_masks.max()\n",
    "segmentation_masks = 255.0 * (segmentation_masks - m)/(M - m)\n",
    "segmentation_masks = Image.fromarray(segmentation_masks.astype('uint8'))\n",
    "segmentation_masks"
   ]
  },
  {
   "cell_type": "markdown",
   "metadata": {},
   "source": [
    "# Measure speed"
   ]
  },
  {
   "cell_type": "code",
   "execution_count": null,
   "metadata": {
    "scrolled": true
   },
   "outputs": [],
   "source": [
    "times = []\n",
    "for _ in range(110):\n",
    "    start = time.perf_counter()\n",
    "    result = detector(image_array, score_threshold=0.25)\n",
    "    times.append(time.perf_counter() - start)\n",
    "    \n",
    "times = np.array(times)\n",
    "times = times[10:]\n",
    "print(times.mean(), times.std())"
   ]
  },
  {
   "cell_type": "markdown",
   "metadata": {},
   "source": [
    "# Show heatmaps "
   ]
  },
  {
   "cell_type": "code",
   "execution_count": null,
   "metadata": {},
   "outputs": [],
   "source": [
    "import matplotlib.pyplot as plt\n",
    "from matplotlib.colors import ListedColormap\n",
    "\n",
    "cmap = plt.cm.get_cmap('autumn')\n",
    "new_cmap = cmap(np.arange(cmap.N))\n",
    "new_cmap[:, -1] = np.sqrt(np.linspace(0, 1, cmap.N))  # set alpha\n",
    "cmap = ListedColormap(new_cmap)  # create new colormap"
   ]
  },
  {
   "cell_type": "code",
   "execution_count": null,
   "metadata": {},
   "outputs": [],
   "source": [
    "ORDER = {\n",
    "    0: 'nose',\n",
    "    1: 'left eye', 2: 'right eye',\n",
    "    3: 'left ear', 4: 'right ear',\n",
    "    5: 'left shoulder', 6: 'right shoulder',\n",
    "    7: 'left elbow', 8: 'right elbow',\n",
    "    9: 'left wrist', 10: 'right wrist',\n",
    "    11: 'left hip', 12: 'right hip',\n",
    "    13: 'left knee', 14: 'right knee',\n",
    "    15: 'left ankle', 16: 'right ankle'\n",
    "}\n",
    "\n",
    "\n",
    "def plot_maps(image, heatmaps, segmentation_mask):\n",
    "    \"\"\"\n",
    "    Arguments:\n",
    "        image: a float numpy array with shape [h, w, 3].\n",
    "        heatmaps: a float numpy array with shape [h / 4, w / 4, 17].\n",
    "        segmentation_mask: a float numpy array with shape [h / 4, w / 4].\n",
    "        loss_mask: a float numpy array with shape [h / 4, w / 4].\n",
    "    \"\"\"\n",
    "\n",
    "    h, w, _ = image.shape\n",
    "    h, w = (h // 2), (w // 2)\n",
    "    background = Image.new('RGBA', (w, h * 18), (255, 255, 255, 255))\n",
    "    draw = ImageDraw.Draw(background, 'RGBA')\n",
    "    \n",
    "    image = Image.fromarray(image)\n",
    "    image = image.resize((w, h), Image.LANCZOS)\n",
    "    image.putalpha(255)\n",
    "\n",
    "    heatmaps = (255 * cmap(heatmaps)).astype('uint8')\n",
    "    # it has shape [h, w, 17, 4]\n",
    "    \n",
    "    heats = []\n",
    "    for j, name in ORDER.items():\n",
    "\n",
    "        heat = Image.fromarray(heatmaps[:, :, j])\n",
    "        heat = heat.resize((w, h), Image.LANCZOS)\n",
    "        heat = Image.alpha_composite(image, heat)\n",
    "        background.paste(heat, (0, j * h))\n",
    "        draw.text((0, j * h), name, fill='red')\n",
    "        \n",
    "    def draw_mask(mask):\n",
    "        mask = np.clip(mask, 0.0, 1.0)\n",
    "        mask = (255 * mask).astype('uint8')\n",
    "        mask = Image.fromarray(mask)\n",
    "        mask = mask.resize((w, h), Image.LANCZOS).convert('RGB')\n",
    "        mask.putalpha(mask.convert('L'))\n",
    "        mask = Image.alpha_composite(image, mask)\n",
    "        return mask\n",
    "    \n",
    "    mask = draw_mask(segmentation_mask)\n",
    "    background.paste(mask, (0, 17 * h))\n",
    "    draw.text((0, 17 * h), 'segmentation mask', fill='red')\n",
    "\n",
    "    return background"
   ]
  },
  {
   "cell_type": "code",
   "execution_count": null,
   "metadata": {},
   "outputs": [],
   "source": [
    "h = outputs['keypoint_heatmaps']\n",
    "m = h.min(0).min(0)\n",
    "M = h.max(0).max(0)\n",
    "h = (h - m)/(M - m)\n",
    "\n",
    "plot_maps(image_array, h, outputs['segmentation_masks'])"
   ]
  }
 ],
 "metadata": {
  "kernelspec": {
   "display_name": "Python 3",
   "language": "python",
   "name": "python3"
  },
  "language_info": {
   "codemirror_mode": {
    "name": "ipython",
    "version": 3
   },
   "file_extension": ".py",
   "mimetype": "text/x-python",
   "name": "python",
   "nbconvert_exporter": "python",
   "pygments_lexer": "ipython3",
   "version": "3.6.9"
  }
 },
 "nbformat": 4,
 "nbformat_minor": 1
}
