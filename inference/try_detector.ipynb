{
 "cells": [
  {
   "cell_type": "code",
   "execution_count": null,
   "metadata": {},
   "outputs": [],
   "source": [
    "import numpy as np\n",
    "from PIL import Image, ImageDraw\n",
    "import os\n",
    "import cv2\n",
    "import time\n",
    "import tensorflow as tf\n",
    "\n",
    "from detector import Detector"
   ]
  },
  {
   "cell_type": "code",
   "execution_count": null,
   "metadata": {},
   "outputs": [],
   "source": [
    "MODEL_PATH = 'model.pb'\n",
    "detector = Detector(MODEL_PATH, gpu_memory_fraction=0.5, visible_device_list='0')"
   ]
  },
  {
   "cell_type": "markdown",
   "metadata": {},
   "source": [
    "# Get an image"
   ]
  },
  {
   "cell_type": "code",
   "execution_count": null,
   "metadata": {},
   "outputs": [],
   "source": [
    "path = '/home/dan/datasets/COCO/images/val2017/'\n",
    "i = os.listdir(path)[14]\n",
    "path = path + i\n",
    "image_array = cv2.imread(path)\n",
    "image_array = cv2.cvtColor(image_array, cv2.COLOR_BGR2RGB)\n",
    "image = Image.fromarray(image_array)\n",
    "image"
   ]
  },
  {
   "cell_type": "markdown",
   "metadata": {},
   "source": [
    "# Show detections"
   ]
  },
  {
   "cell_type": "code",
   "execution_count": null,
   "metadata": {},
   "outputs": [],
   "source": [
    "def draw_on_image(image, heatmaps, segmentation_masks):\n",
    "\n",
    "    image_copy = image.copy()\n",
    "    image_copy.putalpha(255)\n",
    "    #draw = ImageDraw.Draw(image_copy, 'RGBA')\n",
    "    width, height = image_copy.size\n",
    "    \n",
    "    m = segmentation_masks.min()\n",
    "    M = segmentation_masks.max()\n",
    "    segmentation_masks = (segmentation_masks - m)/(M - m)\n",
    "    segmentation_masks = Image.fromarray((segmentation_masks*255.0).astype('uint8'))\n",
    "    segmentation_masks= segmentation_masks.convert('RGB')\n",
    "    segmentation_masks.putalpha(150)\n",
    "    segmentation_masks = segmentation_masks.resize((width, height))\n",
    "    segmentation_masks\n",
    "\n",
    "    image_copy.alpha_composite(segmentation_masks)\n",
    "    return image_copy"
   ]
  },
  {
   "cell_type": "code",
   "execution_count": null,
   "metadata": {
    "scrolled": false
   },
   "outputs": [],
   "source": [
    "image_array = cv2.resize(image_array, (640, 640))\n",
    "heatmaps, segmentation_masks = detector(image_array, score_threshold=0.6)"
   ]
  },
  {
   "cell_type": "code",
   "execution_count": null,
   "metadata": {},
   "outputs": [],
   "source": [
    "m = segmentation_masks.min()\n",
    "M = segmentation_masks.max()\n",
    "segmentation_masks = (segmentation_masks - m)/(M - m)\n",
    "segmentation_masks = Image.fromarray((segmentation_masks*255.0).astype('uint8'))\n",
    "segmentation_masks"
   ]
  },
  {
   "cell_type": "markdown",
   "metadata": {},
   "source": [
    "# Measure speed"
   ]
  },
  {
   "cell_type": "code",
   "execution_count": null,
   "metadata": {},
   "outputs": [],
   "source": [
    "times = []\n",
    "for _ in range(110):\n",
    "    start = time.perf_counter()\n",
    "    boxes, labels, scores = detector(image_array, score_threshold=0.25)\n",
    "    times.append(time.perf_counter() - start)\n",
    "    \n",
    "times = np.array(times)\n",
    "times = times[10:]\n",
    "print(times.mean(), times.std())"
   ]
  }
 ],
 "metadata": {
  "kernelspec": {
   "display_name": "Python 3",
   "language": "python",
   "name": "python3"
  },
  "language_info": {
   "codemirror_mode": {
    "name": "ipython",
    "version": 3
   },
   "file_extension": ".py",
   "mimetype": "text/x-python",
   "name": "python",
   "nbconvert_exporter": "python",
   "pygments_lexer": "ipython3",
   "version": "3.6.6"
  }
 },
 "nbformat": 4,
 "nbformat_minor": 1
}
